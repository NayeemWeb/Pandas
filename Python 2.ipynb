{
 "cells": [
  {
   "cell_type": "code",
   "execution_count": 1,
   "id": "4cfbf23a",
   "metadata": {},
   "outputs": [
    {
     "name": "stdout",
     "output_type": "stream",
     "text": [
      "[[1, 4, 7], [2, 5, 8], [3, 6, 9]]\n"
     ]
    }
   ],
   "source": [
    "import pandas as pd\n",
    "\n",
    "# Create a DataFrame\n",
    "df = pd.DataFrame({'A': [1, 2, 3],\n",
    "                   'B': [4, 5, 6],\n",
    "                   'C': [7, 8, 9]})\n",
    "\n",
    "# Convert DataFrame to a two-dimensional list\n",
    "two_dimensional_list = df.values.tolist()\n",
    "\n",
    "# Print the two-dimensional list\n",
    "print(two_dimensional_list)\n"
   ]
  },
  {
   "cell_type": "code",
   "execution_count": 2,
   "id": "551fe23a",
   "metadata": {},
   "outputs": [
    {
     "name": "stdout",
     "output_type": "stream",
     "text": [
      "0    1\n",
      "1    2\n",
      "2    3\n",
      "Name: A, dtype: int64\n"
     ]
    }
   ],
   "source": [
    "import pandas as pd\n",
    "\n",
    "# Create a DataFrame\n",
    "df = pd.DataFrame({'A': [1, 2, 3],\n",
    "                   'B': [4, 5, 6],\n",
    "                   'C': [7, 8, 9]})\n",
    "\n",
    "# Select column 'A' using dot notation\n",
    "column_A = df.A\n",
    "\n",
    "# Print the selected column\n",
    "print(column_A)\n"
   ]
  },
  {
   "cell_type": "code",
   "execution_count": 3,
   "id": "da68e88f",
   "metadata": {},
   "outputs": [
    {
     "name": "stdout",
     "output_type": "stream",
     "text": [
      "A    2\n",
      "B    5\n",
      "C    8\n",
      "Name: 1, dtype: int64\n",
      "   A  B  C\n",
      "1  2  5  8\n",
      "2  3  6  9\n"
     ]
    }
   ],
   "source": [
    "import pandas as pd\n",
    "\n",
    "# Create a DataFrame\n",
    "df = pd.DataFrame({'A': [1, 2, 3],\n",
    "                   'B': [4, 5, 6],\n",
    "                   'C': [7, 8, 9]})\n",
    "\n",
    "# Select a single row by index\n",
    "row = df.iloc[1]  # Selects the second row (index 1)\n",
    "print(row)\n",
    "\n",
    "# Select multiple rows by index\n",
    "rows = df.iloc[1:3]  # Selects the second and third rows (index 1 and 2)\n",
    "print(rows)\n"
   ]
  },
  {
   "cell_type": "code",
   "execution_count": 4,
   "id": "94e91cbd",
   "metadata": {},
   "outputs": [
    {
     "name": "stdout",
     "output_type": "stream",
     "text": [
      "   A  B   C   D\n",
      "0  1  4 NaN NaN\n",
      "1  2  5 NaN NaN\n",
      "2  3  6 NaN NaN\n",
      "    A   B  C   D\n",
      "0 NaN NaN  7  10\n",
      "1 NaN NaN  8  11\n",
      "2 NaN NaN  9  12\n"
     ]
    }
   ],
   "source": [
    "import pandas as pd\n",
    "\n",
    "# Create two DataFrames\n",
    "df1 = pd.DataFrame({'A': [1, 2, 3],\n",
    "                    'B': [4, 5, 6]})\n",
    "df2 = pd.DataFrame({'C': [7, 8, 9],\n",
    "                    'D': [10, 11, 12]})\n",
    "\n",
    "# Align the columns of the two DataFrames\n",
    "aligned_df1, aligned_df2 = df1.align(df2, axis=1)\n",
    "\n",
    "# Print the aligned DataFrames\n",
    "print(aligned_df1)\n",
    "print(aligned_df2)\n"
   ]
  },
  {
   "cell_type": "code",
   "execution_count": 5,
   "id": "bf375960",
   "metadata": {},
   "outputs": [
    {
     "name": "stdout",
     "output_type": "stream",
     "text": [
      "    A   B\n",
      "a NaN NaN\n",
      "b NaN NaN\n",
      "c NaN NaN\n"
     ]
    }
   ],
   "source": [
    "import pandas as pd\n",
    "\n",
    "# Create a DataFrame\n",
    "df = pd.DataFrame({'A': [1, 2, 3],\n",
    "                   'B': [4, 5, 6]})\n",
    "\n",
    "# Define a new sequence of row labels\n",
    "new_index = ['a', 'b', 'c']\n",
    "\n",
    "# Align the rows of the DataFrame using the new index\n",
    "aligned_df = df.reindex(new_index)\n",
    "\n",
    "# Print the aligned DataFrame\n",
    "print(aligned_df)\n"
   ]
  },
  {
   "cell_type": "code",
   "execution_count": 6,
   "id": "e7b471c8",
   "metadata": {},
   "outputs": [
    {
     "name": "stdout",
     "output_type": "stream",
     "text": [
      "   A  B  new_column\n",
      "0  1  4          10\n",
      "1  2  5          20\n",
      "2  3  6          30\n"
     ]
    }
   ],
   "source": [
    "import pandas as pd\n",
    "\n",
    "# Create a DataFrame\n",
    "df = pd.DataFrame({'A': [1, 2, 3],\n",
    "                   'B': [4, 5, 6]})\n",
    "\n",
    "# Create a new column by assigning a value or performing a calculation\n",
    "df['new_column'] = [10, 20, 30]\n",
    "\n",
    "# Print the updated DataFrame\n",
    "print(df)\n"
   ]
  },
  {
   "cell_type": "code",
   "execution_count": 7,
   "id": "f707be31",
   "metadata": {},
   "outputs": [
    {
     "name": "stdout",
     "output_type": "stream",
     "text": [
      "   A  B  C  new_column\n",
      "0  1  4  7          10\n",
      "1  2  5  8          20\n",
      "2  3  6  9          30\n"
     ]
    }
   ],
   "source": [
    "import pandas as pd\n",
    "\n",
    "# Create a DataFrame\n",
    "df = pd.DataFrame({'A': [1, 2, 3],\n",
    "                   'B': [4, 5, 6],\n",
    "                   'C': [7, 8, 9]})\n",
    "\n",
    "# Create a new column by assigning a value or performing a calculation\n",
    "df['new_column'] = [10, 20, 30]\n",
    "\n",
    "\n",
    "\n",
    "# Print the selected column\n",
    "print(df)\n"
   ]
  },
  {
   "cell_type": "code",
   "execution_count": 8,
   "id": "f111d579",
   "metadata": {},
   "outputs": [
    {
     "name": "stdout",
     "output_type": "stream",
     "text": [
      "    Name  Age         City\n",
      "0   John   25     New York\n",
      "1  Alice   30       London\n",
      "2    Bob   35        Paris\n",
      "3  Emily   27  Los Angeles\n"
     ]
    },
    {
     "name": "stderr",
     "output_type": "stream",
     "text": [
      "C:\\Users\\PNT\\AppData\\Local\\Temp\\ipykernel_12284\\1588536153.py:12: FutureWarning: The frame.append method is deprecated and will be removed from pandas in a future version. Use pandas.concat instead.\n",
      "  df = df.append(new_row, ignore_index=True)\n"
     ]
    }
   ],
   "source": [
    "import pandas as pd\n",
    "\n",
    "# Create a DataFrame\n",
    "df = pd.DataFrame({'Name': ['John', 'Alice', 'Bob'],\n",
    "                   'Age': [25, 30, 35],\n",
    "                   'City': ['New York', 'London', 'Paris']})\n",
    "\n",
    "# Create a new row\n",
    "new_row = {'Name': 'Emily', 'Age': 27, 'City': 'Los Angeles'}\n",
    "\n",
    "# Append the new row to the DataFrame\n",
    "df = df.append(new_row, ignore_index=True)\n",
    "\n",
    "\n",
    "# Print the updated DataFrame\n",
    "print(df)\n"
   ]
  },
  {
   "cell_type": "code",
   "execution_count": 9,
   "id": "8230081e",
   "metadata": {},
   "outputs": [
    {
     "name": "stdout",
     "output_type": "stream",
     "text": [
      "   A    B    C\n",
      "0  1  4.0  7.0\n",
      "1  2  NaN  8.0\n",
      "2  3  6.0  NaN\n"
     ]
    },
    {
     "name": "stderr",
     "output_type": "stream",
     "text": [
      "C:\\Users\\PNT\\AppData\\Local\\Temp\\ipykernel_12284\\3519756467.py:10: SettingWithCopyWarning: \n",
      "A value is trying to be set on a copy of a slice from a DataFrame\n",
      "\n",
      "See the caveats in the documentation: https://pandas.pydata.org/pandas-docs/stable/user_guide/indexing.html#returning-a-view-versus-a-copy\n",
      "  df['B'].loc[1] = np.nan\n"
     ]
    }
   ],
   "source": [
    "import pandas as pd\n",
    "import numpy as np\n",
    "\n",
    "# Create a DataFrame\n",
    "df = pd.DataFrame({'A': [1, 2, 3],\n",
    "                   'B': [4, None, 6],\n",
    "                   'C': [7, 8, np.nan]})\n",
    "\n",
    "# Replace specific values with NaN\n",
    "df['B'].loc[1] = np.nan\n",
    "\n",
    "# Print the DataFrame\n",
    "print(df)\n"
   ]
  },
  {
   "cell_type": "code",
   "execution_count": 10,
   "id": "83eab0fe",
   "metadata": {},
   "outputs": [
    {
     "name": "stdout",
     "output_type": "stream",
     "text": [
      "   A    B    C\n",
      "0  1  4.0  7.0\n",
      "1  2  0.0  8.0\n",
      "2  3  6.0  0.0\n"
     ]
    }
   ],
   "source": [
    "# Create a DataFrame\n",
    "df = pd.DataFrame({'A': [1, 2, 3],\n",
    "                   'B': [4, None, 6],\n",
    "                   'C': [7, 8, np.nan]})\n",
    "\n",
    "# Replace all missing values with a specific value\n",
    "df.fillna(value=0, inplace=True)\n",
    "\n",
    "# Print the DataFrame\n",
    "print(df)\n"
   ]
  },
  {
   "cell_type": "code",
   "execution_count": 11,
   "id": "abb6780c",
   "metadata": {},
   "outputs": [
    {
     "name": "stdout",
     "output_type": "stream",
     "text": [
      "   A    B    C\n",
      "0  1  NaN  7.0\n",
      "1  2  NaN  8.0\n",
      "2  3  6.0  8.0\n"
     ]
    }
   ],
   "source": [
    "# Create a DataFrame\n",
    "df = pd.DataFrame({'A': [1, 2, 3],\n",
    "                   'B': [4, None, 6],\n",
    "                   'C': [7, 8, np.nan]})\n",
    "\n",
    "# Replace specific values with NaN using 'replace()'\n",
    "df.replace(to_replace=4, value=np.nan, inplace=True)\n",
    "\n",
    "# Interpolate missing values using 'interpolate()'\n",
    "df['C'].interpolate(inplace=True)\n",
    "\n",
    "# Print the DataFrame\n",
    "print(df)\n"
   ]
  },
  {
   "cell_type": "code",
   "execution_count": 12,
   "id": "f904aaf2",
   "metadata": {},
   "outputs": [],
   "source": [
    "import pandas as pd\n",
    "\n",
    "# Create a DataFrame\n",
    "df = pd.DataFrame({'Category': ['A', 'A', 'B', 'B', 'C'],\n",
    "                   'Value': [10, 15, 12, 8, 20]})"
   ]
  },
  {
   "cell_type": "code",
   "execution_count": 13,
   "id": "8c5a30e2",
   "metadata": {},
   "outputs": [
    {
     "name": "stdout",
     "output_type": "stream",
     "text": [
      "Mean value by category:\n",
      " Category\n",
      "A    12.5\n",
      "B    10.0\n",
      "C    20.0\n",
      "Name: Value, dtype: float64\n",
      "Sum of values by category:\n",
      " Category\n",
      "A    25\n",
      "B    20\n",
      "C    20\n",
      "Name: Value, dtype: int64\n"
     ]
    }
   ],
   "source": [
    "# Calculate the mean value by category\n",
    "mean_value = df.groupby('Category')['Value'].mean()\n",
    "print(\"Mean value by category:\\n\", mean_value)\n",
    "\n",
    "# Calculate the sum of values by category\n",
    "sum_value = df.groupby('Category')['Value'].sum()\n",
    "print(\"Sum of values by category:\\n\", sum_value)"
   ]
  },
  {
   "cell_type": "code",
   "execution_count": 14,
   "id": "96215420",
   "metadata": {},
   "outputs": [
    {
     "name": "stdout",
     "output_type": "stream",
     "text": [
      "Minimum value by category:\n",
      " Category\n",
      "A    10\n",
      "B     8\n",
      "C    20\n",
      "Name: Value, dtype: int64\n",
      "Maximum value by category:\n",
      " Category\n",
      "A    15\n",
      "B    12\n",
      "C    20\n",
      "Name: Value, dtype: int64\n",
      "Count of occurrences by category:\n",
      " A    2\n",
      "B    2\n",
      "C    1\n",
      "Name: Category, dtype: int64\n"
     ]
    }
   ],
   "source": [
    "# Find the minimum value by category\n",
    "min_value = df.groupby('Category')['Value'].min()\n",
    "print(\"Minimum value by category:\\n\", min_value)\n",
    "\n",
    "# Find the maximum value by category\n",
    "max_value = df.groupby('Category')['Value'].max()\n",
    "print(\"Maximum value by category:\\n\", max_value)\n",
    "\n",
    "# Count the occurrences of each category\n",
    "count_category = df['Category'].value_counts()\n",
    "print(\"Count of occurrences by category:\\n\", count_category)\n"
   ]
  },
  {
   "cell_type": "code",
   "execution_count": null,
   "id": "aad2cf60",
   "metadata": {},
   "outputs": [],
   "source": []
  }
 ],
 "metadata": {
  "kernelspec": {
   "display_name": "Python 3 (ipykernel)",
   "language": "python",
   "name": "python3"
  },
  "language_info": {
   "codemirror_mode": {
    "name": "ipython",
    "version": 3
   },
   "file_extension": ".py",
   "mimetype": "text/x-python",
   "name": "python",
   "nbconvert_exporter": "python",
   "pygments_lexer": "ipython3",
   "version": "3.9.13"
  }
 },
 "nbformat": 4,
 "nbformat_minor": 5
}
